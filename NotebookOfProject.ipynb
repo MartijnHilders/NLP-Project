{
 "cells": [
  {
   "cell_type": "code",
   "execution_count": 14,
   "metadata": {},
   "outputs": [],
   "source": [
    "import warnings\n",
    "warnings.filterwarnings(action='ignore', category=UserWarning, module='gensim')\n",
    "\n",
    "import collections\n",
    "import re\n",
    "import pandas as pd\n",
    "import numpy as np\n",
    "from nltk.corpus import stopwords\n",
    "from nltk import word_tokenize, sent_tokenize\n",
    "from string import punctuation\n",
    "import math\n",
    "from sklearn.ensemble import RandomForestClassifier\n",
    "from sklearn.preprocessing import LabelEncoder\n",
    "from sklearn.feature_extraction.text import TfidfVectorizer\n",
    "\n",
    "#cleaning the available text to get clean data\n",
    "def cleanText(text):\n",
    "\n",
    "    stopw = stopwords.words('english')\n",
    "\n",
    "    # remove 'not' from the stopwords while this can negate an insult\n",
    "    # decided to add 'you' while in toxic conversations you is used to enhance te meaning\n",
    "    #TODO: enhance comments\n",
    "    stopw.remove('not')\n",
    "    stopw.remove('you')\n",
    "    stopw.remove('your')\n",
    "    stopw.remove('you\\'re')\n",
    "    stopw.remove('are')\n",
    "\n",
    "    #make the whole text lowercase so we don't make differences between capitalization\n",
    "    text = text.lower()\n",
    "\n",
    "    #subbing words to match cleaner words.\n",
    "    text = re.sub(\"\\'s\", \" \", text)\n",
    "    text = re.sub(\" whats \", \" what is \", text, flags=re.IGNORECASE)\n",
    "    text = re.sub(\"\\'n't \", \" not \", text, flags=re.IGNORECASE)\n",
    "    text = re.sub(\" n't \", \" not \", text, flags=re.IGNORECASE)\n",
    "    text = re.sub(\"I'm\", \"I am\", text)\n",
    "    text = re.sub(\"shouldn\\'t\", \" should not \", text, flags=re.IGNORECASE)\n",
    "    text = re.sub(\"were\\'nt\", \" were not \", text, flags=re.IGNORECASE)\n",
    "    text = re.sub(\"can't\", \" can not \", text, flags=re.IGNORECASE)\n",
    "    text = re.sub(\"\\'ve\", \" have \", text)\n",
    "    text = re.sub(\"\\'ll\", \" will \", text)\n",
    "\n",
    "    #remove all the stopwords and remove all non letters\n",
    "    words = word_tokenize(text)\n",
    "    tokens = [word for word in words if word not in stopw]\n",
    "\n",
    "    #remove all non letters in the dataset\n",
    "    tokens = [word for word in tokens if re.match(r'[^\\W\\d]*$', word)]\n",
    "\n",
    "    #remove all URLs in the dataset\n",
    "    # TODO: write a regex for this\n",
    "\n",
    "    text = ' '.join(tokens)\n",
    "\n",
    "    #remove punctuation\n",
    "    text = ''.join([word for word in text if word not in punctuation])\n",
    "\n",
    "    #dealing with empty data line\n",
    "    if type(text) != str or text == '':\n",
    "        return ''\n",
    "\n",
    "\n",
    "    cleaned_text = text\n",
    "    return cleaned_text\n"
   ]
  },
  {
   "cell_type": "code",
   "execution_count": 15,
   "metadata": {},
   "outputs": [],
   "source": [
    "# importing the training data using pandas.\n",
    "df_train = pd.read_csv('Data/train.csv')\n",
    "# save the original text to easily inspect it and derive what has to be cleaned\n",
    "# df_train['comment_text'].to_csv('Data/OriginalText.csv')\n",
    "\n",
    "# save the cleaned text to easily inspect it\n",
    "# df_train['comment_text'].to_csv('Data/cleanedText.csv')\n",
    "\n",
    "# clean the text\n",
    "df_train['comment_text'] = df_train['comment_text'].apply(cleanText)\n"
   ]
  },
  {
   "cell_type": "code",
   "execution_count": 16,
   "metadata": {},
   "outputs": [],
   "source": [
    "def averageVecValue(comment, model, vectorSize, vocab):\n",
    "    Vector = np.zeros(vectorSize)\n",
    "    \n",
    "    for word in comment:\n",
    "        if word in vocab:\n",
    "            Vector += np.array(model.wv.get_vector(word))\n",
    "    \n",
    "    Vector_value = np.divide(Vector, vectorSize)\n",
    "    \n",
    "    return Vector_value.tolist()"
   ]
  },
  {
   "cell_type": "code",
   "execution_count": 21,
   "metadata": {},
   "outputs": [],
   "source": [
    "from gensim.models import Word2Vec\n",
    "from nltk.tokenize import word_tokenize\n",
    "\n",
    "def word2Vec(cleanedData, dataSet):\n",
    "    dataSet['comment_text_tokenized'] = dataSet['comment_text'].apply(word_tokenize)\n",
    "    tokens = df_train['comment_text_tokenized']\n",
    "    \n",
    "    vectorSize = 300\n",
    "    word2vec = Word2Vec(tokens,min_count = 2, size = vectorSize)\n",
    "    vocab = word2vec.wv.vocab\n",
    "    \n",
    "    vectorizedData = []\n",
    "    for index, row in dataSet.iterrows():\n",
    "        vectorizedData.append(averageVecValue(row['comment_text'], word2vec, vectorSize, vocab))\n",
    "        \n",
    "    \n",
    "    return vectorizedData\n"
   ]
  },
  {
   "cell_type": "code",
   "execution_count": 22,
   "metadata": {},
   "outputs": [
    {
     "name": "stdout",
     "output_type": "stream",
     "text": [
      "setting up training data \n",
      "started training the model\n"
     ]
    },
    {
     "name": "stderr",
     "output_type": "stream",
     "text": [
      "C:\\Users\\Martijn\\Anaconda3\\lib\\site-packages\\sklearn\\ensemble\\forest.py:246: FutureWarning: The default value of n_estimators will change from 10 in version 0.20 to 100 in 0.22.\n",
      "  \"10 in version 0.20 to 100 in 0.22.\", FutureWarning)\n"
     ]
    },
    {
     "ename": "NameError",
     "evalue": "name 'randomForestEvaluator' is not defined",
     "output_type": "error",
     "traceback": [
      "\u001b[1;31m---------------------------------------------------------------------------\u001b[0m",
      "\u001b[1;31mNameError\u001b[0m                                 Traceback (most recent call last)",
      "\u001b[1;32m<ipython-input-22-c2af94d16401>\u001b[0m in \u001b[0;36m<module>\u001b[1;34m\u001b[0m\n\u001b[0;32m     21\u001b[0m \u001b[1;33m\u001b[0m\u001b[0m\n\u001b[0;32m     22\u001b[0m \u001b[1;31m#evaluates the random forest model by saving its predicitons to a .csv file\u001b[0m\u001b[1;33m\u001b[0m\u001b[1;33m\u001b[0m\u001b[1;33m\u001b[0m\u001b[0m\n\u001b[1;32m---> 23\u001b[1;33m \u001b[0mrandomForestEvaluator\u001b[0m\u001b[1;33m(\u001b[0m\u001b[0mrf_model\u001b[0m\u001b[1;33m,\u001b[0m \u001b[0mdf_train\u001b[0m\u001b[1;33m,\u001b[0m \u001b[0mXtest\u001b[0m\u001b[1;33m)\u001b[0m\u001b[1;33m\u001b[0m\u001b[1;33m\u001b[0m\u001b[0m\n\u001b[0m",
      "\u001b[1;31mNameError\u001b[0m: name 'randomForestEvaluator' is not defined"
     ]
    }
   ],
   "source": [
    "# setting up the X training comments (vectorize them to be able to be used as input for model) and Y training labels\n",
    "print(\"setting up training data \")\n",
    "df_train = df_train.sample(n=10000, random_state=33)\n",
    "Xtrain = word2Vec(df_train['comment_text'], df_train)\n",
    "Ytrain = df_train[['toxic', 'severe_toxic', 'obscene', 'threat', 'insult', 'identity_hate']]\n",
    "\n",
    "\n",
    "# importing the test data set to test the algorithm\n",
    "df_test = pd.read_csv('Data/test.csv')\n",
    "\n",
    "  # setting up de X test comments to test the algorithm\n",
    "Xtest = df_test['comment_text']\n",
    "\n",
    "#run the algorithm for the first time and get an idea of the accuracy with the basic parameters.\n",
    "print(\"started training the model\")\n",
    "rf_model = RandomForestClassifier()\n",
    "rf_model.fit(Xtrain, Ytrain)\n",
    "\n",
    "# test the accuracy of the model on a split training dataset\n",
    "\n",
    "\n",
    "#evaluates the random forest model by saving its predicitons to a .csv file\n",
    "# randomForestEvaluator(rf_model, df_train, Xtest)\n"
   ]
  },
  {
   "cell_type": "code",
   "execution_count": null,
   "metadata": {},
   "outputs": [],
   "source": []
  }
 ],
 "metadata": {
  "kernelspec": {
   "display_name": "Python 3",
   "language": "python",
   "name": "python3"
  },
  "language_info": {
   "codemirror_mode": {
    "name": "ipython",
    "version": 3
   },
   "file_extension": ".py",
   "mimetype": "text/x-python",
   "name": "python",
   "nbconvert_exporter": "python",
   "pygments_lexer": "ipython3",
   "version": "3.7.3"
  }
 },
 "nbformat": 4,
 "nbformat_minor": 2
}
