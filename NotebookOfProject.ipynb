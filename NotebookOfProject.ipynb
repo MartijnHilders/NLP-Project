{
 "cells": [
  {
   "cell_type": "code",
   "execution_count": 9,
   "metadata": {},
   "outputs": [],
   "source": [
    "import warnings\n",
    "warnings.filterwarnings(action='ignore', category=UserWarning, module='gensim')\n",
    "\n",
    "import collections\n",
    "import re\n",
    "import pandas as pd\n",
    "import numpy as np\n",
    "from nltk.corpus import stopwords\n",
    "from nltk import word_tokenize, sent_tokenize\n",
    "from string import punctuation\n",
    "import math\n",
    "from sklearn.ensemble import RandomForestClassifier\n",
    "from sklearn.preprocessing import LabelEncoder\n",
    "from sklearn.feature_extraction.text import TfidfVectorizer\n",
    "\n",
    "\n",
    "#cleaning the available text to get clean data\n",
    "def cleanText(text):\n",
    "\n",
    "    stopw = stopwords.words('english')\n",
    "\n",
    "    # remove 'not' from the stopwords while this can negate an insult\n",
    "    # decided to add 'you' while in toxic conversations you is used to enhance te meaning\n",
    "    #TODO: enhance comments\n",
    "    stopw.remove('not')\n",
    "    stopw.remove('you')\n",
    "    stopw.remove('your')\n",
    "    stopw.remove('you\\'re')\n",
    "    stopw.remove('are')\n",
    "\n",
    "    #make the whole text lowercase so we don't make differences between capitalization\n",
    "    text = text.lower()\n",
    "\n",
    "    #subbing words to match cleaner words.\n",
    "    text = re.sub(\"\\'s\", \" \", text)\n",
    "    text = re.sub(\" whats \", \" what is \", text, flags=re.IGNORECASE)\n",
    "    text = re.sub(\"\\'n't \", \" not \", text, flags=re.IGNORECASE)\n",
    "    text = re.sub(\" n't \", \" not \", text, flags=re.IGNORECASE)\n",
    "    text = re.sub(\"I'm\", \"I am\", text)\n",
    "    text = re.sub(\"shouldn\\'t\", \" should not \", text, flags=re.IGNORECASE)\n",
    "    text = re.sub(\"were\\'nt\", \" were not \", text, flags=re.IGNORECASE)\n",
    "    text = re.sub(\"can't\", \" can not \", text, flags=re.IGNORECASE)\n",
    "    text = re.sub(\"\\'ve\", \" have \", text)\n",
    "    text = re.sub(\"\\'ll\", \" will \", text)\n",
    "\n",
    "    #remove all the stopwords and remove all non letters\n",
    "    words = word_tokenize(text)\n",
    "    tokens = [word for word in words if word not in stopw]\n",
    "\n",
    "    #remove all non letters in the dataset\n",
    "    tokens = [word for word in tokens if re.match(r'[^\\W\\d]*$', word)]\n",
    "\n",
    "    #remove all URLs in the dataset\n",
    "    # TODO: write a regex for this\n",
    "\n",
    "    text = ' '.join(tokens)\n",
    "\n",
    "    #remove punctuation\n",
    "    text = ''.join([word for word in text if word not in punctuation])\n",
    "\n",
    "    #dealing with empty data line\n",
    "    if type(text) != str or text == '':\n",
    "        return ''\n",
    "\n",
    "\n",
    "    cleaned_text = text\n",
    "    return cleaned_text\n"
   ]
  },
  {
   "cell_type": "code",
   "execution_count": 10,
   "metadata": {},
   "outputs": [],
   "source": [
    "# importing the training data using pandas.\n",
    "df_train = pd.read_csv('Data/train.csv')\n",
    "# save the original text to easily inspect it and derive what has to be cleaned\n",
    "# df_train['comment_text'].to_csv('Data/OriginalText.csv')\n",
    "\n",
    "# save the cleaned text to easily inspect it\n",
    "# df_train['comment_text'].to_csv('Data/cleanedText.csv')\n",
    "\n",
    "# clean the text\n",
    "df_train['comment_text'] = df_train['comment_text'].apply(cleanText)\n"
   ]
  },
  {
   "cell_type": "code",
   "execution_count": 11,
   "metadata": {},
   "outputs": [],
   "source": [
    "def averageVecValue(comment, model, vectorSize, vocab):\n",
    "    Vector = np.zeros(vectorSize)\n",
    "    \n",
    "    for word in comment:\n",
    "        if word in vocab:\n",
    "            Vector += np.array(model.wv.get_vector(word))\n",
    "    \n",
    "    Vector_value = np.divide(Vector, vectorSize)\n",
    "    \n",
    "    return Vector_value.tolist()"
   ]
  },
  {
   "cell_type": "code",
   "execution_count": 12,
   "metadata": {},
   "outputs": [],
   "source": [
    "from gensim.models import Word2Vec\n",
    "from nltk.tokenize import word_tokenize\n",
    "\n",
    "def word2Vec(cleanedData, dataSet):\n",
    "    dataSet['comment_text_tokenized'] = dataSet['comment_text'].apply(word_tokenize)\n",
    "    tokens = df_train['comment_text_tokenized']\n",
    "    \n",
    "    vectorSize = 300\n",
    "    word2vec = Word2Vec(tokens,min_count = 2, size = vectorSize)\n",
    "    vocab = word2vec.wv.vocab\n",
    "    \n",
    "    vectorizedData = []\n",
    "    for index, row in dataSet.iterrows():\n",
    "        vectorizedData.append(averageVecValue(row['comment_text'], word2vec, vectorSize, vocab))\n",
    "        \n",
    "    \n",
    "    return vectorizedData\n"
   ]
  },
  {
   "cell_type": "code",
   "execution_count": 34,
   "metadata": {},
   "outputs": [
    {
     "name": "stdout",
     "output_type": "stream",
     "text": [
      "setting up training data \n",
      "started training the model\n"
     ]
    },
    {
     "name": "stderr",
     "output_type": "stream",
     "text": [
      "C:\\Users\\Martijn\\Anaconda3\\lib\\site-packages\\sklearn\\ensemble\\forest.py:246: FutureWarning: The default value of n_estimators will change from 10 in version 0.20 to 100 in 0.22.\n",
      "  \"10 in version 0.20 to 100 in 0.22.\", FutureWarning)\n"
     ]
    },
    {
     "name": "stdout",
     "output_type": "stream",
     "text": [
      "RF Accuracy: 88.29%\n"
     ]
    }
   ],
   "source": [
    "# setting up the X training comments (vectorize them to be able to be used as input for model) and Y training labels\n",
    "print(\"setting up training data \")\n",
    "df_train = df_train.sample(n=25000, random_state=33)\n",
    "Xtrain = word2Vec(df_train['comment_text'], df_train)\n",
    "Ytrain = df_train[['toxic', 'severe_toxic', 'obscene', 'threat', 'insult', 'identity_hate']]\n",
    "\n",
    "\n",
    "# importing the test data set to test the algorithm\n",
    "df_test = pd.read_csv('Data/test.csv')\n",
    "\n",
    "\n",
    "#run the algorithm for the first time and get an idea of the accuracy with the basic parameters.\n",
    "print(\"started training the model\")\n",
    "rf_model = RandomForestClassifier()\n",
    "# rf_model.fit(Xtrain, Ytrain)\n",
    "\n",
    "# test the accuracy of the model on a split training dataset\n",
    "from sklearn.model_selection import train_test_split\n",
    "from sklearn.metrics import classification_report\n",
    "\n",
    "xtrain, xtest,ytrain,ytest = train_test_split(Xtrain,Ytrain,test_size=0.4, random_state=33)\n",
    "rf_model.fittransform(xtrain, ytrain)\n",
    "print(\"RF Accuracy: %0.2f%%\" % (100 * rf_model.score(xtest, ytest)))\n",
    "\n",
    "\n",
    "\n",
    "    \n",
    "# # testing score\n",
    "# score = metrics.f1_score(ytest, rf_model.predict(ytest), pos_label=list(set(ytest)))\n",
    "# print(score)\n",
    "\n",
    "# # training score\n",
    "# print()\n",
    "# score_train = metrics.f1_score(ytrain, rf_model.predict(ytrain), pos_label=list(set(ytrain)))\n",
    "# print(score_train)\n",
    "\n",
    "\n"
   ]
  },
  {
   "cell_type": "code",
   "execution_count": 24,
   "metadata": {},
   "outputs": [],
   "source": [
    " # setting up de X test comments to test the algorithm\n",
    "# Xtest = word2Vec(df_test)"
   ]
  },
  {
   "cell_type": "code",
   "execution_count": null,
   "metadata": {},
   "outputs": [],
   "source": []
  }
 ],
 "metadata": {
  "kernelspec": {
   "display_name": "Python 3",
   "language": "python",
   "name": "python3"
  },
  "language_info": {
   "codemirror_mode": {
    "name": "ipython",
    "version": 3
   },
   "file_extension": ".py",
   "mimetype": "text/x-python",
   "name": "python",
   "nbconvert_exporter": "python",
   "pygments_lexer": "ipython3",
   "version": "3.7.3"
  }
 },
 "nbformat": 4,
 "nbformat_minor": 2
}
